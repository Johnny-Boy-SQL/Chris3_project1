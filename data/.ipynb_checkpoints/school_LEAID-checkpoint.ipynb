{
 "cells": [
  {
   "cell_type": "code",
   "execution_count": 1,
   "id": "obvious-render",
   "metadata": {},
   "outputs": [],
   "source": [
    "import os\n",
    "import csv\n",
    "import pandas as pd\n"
   ]
  },
  {
   "cell_type": "code",
   "execution_count": 15,
   "id": "taken-scale",
   "metadata": {},
   "outputs": [
    {
     "name": "stdout",
     "output_type": "stream",
     "text": [
      "2230\n"
     ]
    },
    {
     "data": {
      "text/plain": [
       "array(['Gardner-Newman Middle School', 'Hollis Hand Elementary School',\n",
       "       'LaGrange High School', ..., 'Worth County High School',\n",
       "       'Worth County Elementary School',\n",
       "       'Worth County Achievement Center'], dtype=object)"
      ]
     },
     "execution_count": 15,
     "metadata": {},
     "output_type": "execute_result"
    }
   ],
   "source": [
    "school_direc=pd.read_csv(\"raw_data/universe_survey_data/school_directory_2017-2018.csv\", low_memory=False)\n",
    "school_direc.head()\n",
    "state = school_direc['ST']\n",
    "school_direc = school_direc.loc[(state == \"GA\")]\n",
    "school_direc.head()\n",
    "school_direc.count()\n",
    "\n",
    "#school_direc.to_csv(\"raw_data/universe_survey_data/school_directory_2017-2018_ga.csv\")\n",
    "\n",
    "print(len(school_direc[\"SCH_NAME\"].unique()))\n",
    "school_direc[\"SCH_NAME\"].unique()"
   ]
  },
  {
   "cell_type": "code",
   "execution_count": 22,
   "id": "worst-resistance",
   "metadata": {},
   "outputs": [
    {
     "data": {
      "text/html": [
       "<div>\n",
       "<style scoped>\n",
       "    .dataframe tbody tr th:only-of-type {\n",
       "        vertical-align: middle;\n",
       "    }\n",
       "\n",
       "    .dataframe tbody tr th {\n",
       "        vertical-align: top;\n",
       "    }\n",
       "\n",
       "    .dataframe thead th {\n",
       "        text-align: right;\n",
       "    }\n",
       "</style>\n",
       "<table border=\"1\" class=\"dataframe\">\n",
       "  <thead>\n",
       "    <tr style=\"text-align: right;\">\n",
       "      <th></th>\n",
       "      <th>SCH_NAME</th>\n",
       "      <th>LEAID</th>\n",
       "    </tr>\n",
       "  </thead>\n",
       "  <tbody>\n",
       "    <tr>\n",
       "      <th>24087</th>\n",
       "      <td>Gardner-Newman Middle School</td>\n",
       "      <td>1300001</td>\n",
       "    </tr>\n",
       "    <tr>\n",
       "      <th>24088</th>\n",
       "      <td>Hollis Hand Elementary School</td>\n",
       "      <td>1300001</td>\n",
       "    </tr>\n",
       "    <tr>\n",
       "      <th>24089</th>\n",
       "      <td>LaGrange High School</td>\n",
       "      <td>1300001</td>\n",
       "    </tr>\n",
       "    <tr>\n",
       "      <th>24090</th>\n",
       "      <td>Berta Weathersbee Elementary School</td>\n",
       "      <td>1300001</td>\n",
       "    </tr>\n",
       "    <tr>\n",
       "      <th>24091</th>\n",
       "      <td>Hillcrest Elementary School</td>\n",
       "      <td>1300001</td>\n",
       "    </tr>\n",
       "    <tr>\n",
       "      <th>...</th>\n",
       "      <td>...</td>\n",
       "      <td>...</td>\n",
       "    </tr>\n",
       "    <tr>\n",
       "      <th>26409</th>\n",
       "      <td>Worth County Middle School</td>\n",
       "      <td>1305850</td>\n",
       "    </tr>\n",
       "    <tr>\n",
       "      <th>26410</th>\n",
       "      <td>Worth County Primary School</td>\n",
       "      <td>1305850</td>\n",
       "    </tr>\n",
       "    <tr>\n",
       "      <th>26411</th>\n",
       "      <td>Worth County High School</td>\n",
       "      <td>1305850</td>\n",
       "    </tr>\n",
       "    <tr>\n",
       "      <th>26412</th>\n",
       "      <td>Worth County Elementary School</td>\n",
       "      <td>1305850</td>\n",
       "    </tr>\n",
       "    <tr>\n",
       "      <th>26413</th>\n",
       "      <td>Worth County Achievement Center</td>\n",
       "      <td>1305850</td>\n",
       "    </tr>\n",
       "  </tbody>\n",
       "</table>\n",
       "<p>2327 rows × 2 columns</p>\n",
       "</div>"
      ],
      "text/plain": [
       "                                  SCH_NAME    LEAID\n",
       "24087         Gardner-Newman Middle School  1300001\n",
       "24088        Hollis Hand Elementary School  1300001\n",
       "24089                 LaGrange High School  1300001\n",
       "24090  Berta Weathersbee Elementary School  1300001\n",
       "24091          Hillcrest Elementary School  1300001\n",
       "...                                    ...      ...\n",
       "26409           Worth County Middle School  1305850\n",
       "26410          Worth County Primary School  1305850\n",
       "26411             Worth County High School  1305850\n",
       "26412       Worth County Elementary School  1305850\n",
       "26413      Worth County Achievement Center  1305850\n",
       "\n",
       "[2327 rows x 2 columns]"
      ]
     },
     "execution_count": 22,
     "metadata": {},
     "output_type": "execute_result"
    }
   ],
   "source": [
    "schname_LEAID=pd.DataFrame(school_direc[[\"SCH_NAME\",\"LEAID\"]])\n",
    "schname_LEAID\n",
    "\n",
    "schname_LEAID.to_csv(\"schoolname_LEAID_reference.csv\")"
   ]
  },
  {
   "cell_type": "code",
   "execution_count": null,
   "id": "altered-nightlife",
   "metadata": {},
   "outputs": [],
   "source": []
  }
 ],
 "metadata": {
  "kernelspec": {
   "display_name": "Python 3",
   "language": "python",
   "name": "python3"
  },
  "language_info": {
   "codemirror_mode": {
    "name": "ipython",
    "version": 3
   },
   "file_extension": ".py",
   "mimetype": "text/x-python",
   "name": "python",
   "nbconvert_exporter": "python",
   "pygments_lexer": "ipython3",
   "version": "3.6.12"
  }
 },
 "nbformat": 4,
 "nbformat_minor": 5
}
