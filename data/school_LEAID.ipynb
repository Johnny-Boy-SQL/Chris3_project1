{
 "cells": [
  {
   "cell_type": "code",
   "execution_count": 1,
   "id": "decimal-sponsorship",
   "metadata": {},
   "outputs": [],
   "source": [
    "import os\n",
    "import csv\n",
    "import pandas as pd\n"
   ]
  },
  {
   "cell_type": "code",
   "execution_count": 15,
   "id": "express-constraint",
   "metadata": {},
   "outputs": [
    {
     "name": "stdout",
     "output_type": "stream",
     "text": [
      "2230\n"
     ]
    },
    {
     "data": {
      "text/plain": [
       "array(['Gardner-Newman Middle School', 'Hollis Hand Elementary School',\n",
       "       'LaGrange High School', ..., 'Worth County High School',\n",
       "       'Worth County Elementary School',\n",
       "       'Worth County Achievement Center'], dtype=object)"
      ]
     },
     "execution_count": 15,
     "metadata": {},
     "output_type": "execute_result"
    }
   ],
   "source": [
    "school_direc=pd.read_csv(\"raw_data/universe_survey_data/school_directory_2017-2018.csv\", low_memory=False)\n",
    "school_direc.head()\n",
    "state = school_direc['ST']\n",
    "school_direc = school_direc.loc[(state == \"GA\")]\n",
    "school_direc.head()\n",
    "school_direc.count()\n",
    "\n",
    "#school_direc.to_csv(\"raw_data/universe_survey_data/school_directory_2017-2018_ga.csv\")\n",
    "\n",
    "print(len(school_direc[\"SCH_NAME\"].unique()))\n",
    "school_direc[\"SCH_NAME\"].unique()"
   ]
  },
  {
   "cell_type": "code",
   "execution_count": 23,
   "id": "recovered-oxygen",
   "metadata": {},
   "outputs": [],
   "source": [
    "schname_LEAID=pd.DataFrame(school_direc[[\"SCH_NAME\",\"LEAID\"]])\n",
    "schname_LEAID\n",
    "\n",
    "schname_LEAID.to_csv(\"schoolname_LEAID_reference.csv\")"
   ]
  },
  {
   "cell_type": "code",
   "execution_count": null,
   "id": "mounted-monroe",
   "metadata": {},
   "outputs": [],
   "source": []
  }
 ],
 "metadata": {
  "kernelspec": {
   "display_name": "Python 3",
   "language": "python",
   "name": "python3"
  },
  "language_info": {
   "codemirror_mode": {
    "name": "ipython",
    "version": 3
   },
   "file_extension": ".py",
   "mimetype": "text/x-python",
   "name": "python",
   "nbconvert_exporter": "python",
   "pygments_lexer": "ipython3",
   "version": "3.6.12"
  }
 },
 "nbformat": 4,
 "nbformat_minor": 5
}
