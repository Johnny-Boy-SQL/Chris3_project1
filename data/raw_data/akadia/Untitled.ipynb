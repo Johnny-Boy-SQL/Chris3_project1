{
 "cells": [
  {
   "cell_type": "code",
   "execution_count": 17,
   "id": "normal-entry",
   "metadata": {},
   "outputs": [
    {
     "data": {
      "text/plain": [
       "LEAID       object\n",
       "CENSUSID    object\n",
       "FIPST       object\n",
       "CONUM       object\n",
       "CSA         object\n",
       "             ...  \n",
       "FL_V02      object\n",
       "FL_K14      object\n",
       "FL_CE1      object\n",
       "FL_CE2      object\n",
       "FL_CE3      object\n",
       "Length: 262, dtype: object"
      ]
     },
     "execution_count": 17,
     "metadata": {},
     "output_type": "execute_result"
    }
   ],
   "source": [
    "import pandas as pd\n",
    "import os\n",
    "import csv\n",
    "\n",
    "re1718_df=pd.read_sas(\"../rev_exp/revexp_district_1718.sas7bdat\",format='sas7bdat',iterator=False,chunksize=None,encoding=\"utf-8\") #https://pandas.pydata.org/docs/reference/api/pandas.read_sas.html\n",
    "state = re1718_df['STABBR']\n",
    "gare1718_df = re1718_df.loc[(state == \"GA\")]\n",
    "gare1718_df.head()\n",
    "gare1718_df.dtypes\n",
    "gare1718_df[\"CONUM\"].convert_dtypes\n",
    "gare1718_df.dtypes"
   ]
  },
  {
   "cell_type": "code",
   "execution_count": 18,
   "id": "normal-tumor",
   "metadata": {},
   "outputs": [
    {
     "data": {
      "text/plain": [
       "CONUM                                                      int64\n",
       "County Name [Public School] 2017-18                       object\n",
       "Total Number of Public Schools [Public School] 2017-18     int64\n",
       "dtype: object"
      ]
     },
     "execution_count": 18,
     "metadata": {},
     "output_type": "execute_result"
    }
   ],
   "source": [
    "county_id=pd.read_csv(\"countyID_countyname.csv\")\n",
    "county_id.head()\n",
    "county_id.dtypes"
   ]
  },
  {
   "cell_type": "code",
   "execution_count": null,
   "id": "statistical-professor",
   "metadata": {},
   "outputs": [],
   "source": [
    "rev_exp1718=pd.merge(county_id,gare1718_df,on=\"CONUM\")\n",
    "rev_exp1718.head()"
   ]
  },
  {
   "cell_type": "code",
   "execution_count": null,
   "id": "detected-daniel",
   "metadata": {},
   "outputs": [],
   "source": []
  }
 ],
 "metadata": {
  "kernelspec": {
   "display_name": "Python 3",
   "language": "python",
   "name": "python3"
  },
  "language_info": {
   "codemirror_mode": {
    "name": "ipython",
    "version": 3
   },
   "file_extension": ".py",
   "mimetype": "text/x-python",
   "name": "python",
   "nbconvert_exporter": "python",
   "pygments_lexer": "ipython3",
   "version": "3.6.12"
  }
 },
 "nbformat": 4,
 "nbformat_minor": 5
}
