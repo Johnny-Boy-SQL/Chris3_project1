{
 "metadata": {
  "language_info": {
   "codemirror_mode": {
    "name": "ipython",
    "version": 3
   },
   "file_extension": ".py",
   "mimetype": "text/x-python",
   "name": "python",
   "nbconvert_exporter": "python",
   "pygments_lexer": "ipython3",
   "version": "3.8.5-final"
  },
  "orig_nbformat": 2,
  "kernelspec": {
   "name": "python3",
   "display_name": "Python 3",
   "language": "python"
  }
 },
 "nbformat": 4,
 "nbformat_minor": 2,
 "cells": [
  {
   "cell_type": "code",
   "execution_count": 1,
   "metadata": {},
   "outputs": [
    {
     "output_type": "execute_result",
     "data": {
      "text/plain": [
       "  LONG_SCHOOL_YEAR  SCHOOL_DISTRCT_CD SCHOOL_DSTRCT_NM  INSTN_NUMBER  \\\n",
       "0          2017-18                601   Appling County           103   \n",
       "1          2017-18                601   Appling County           103   \n",
       "2          2017-18                601   Appling County           103   \n",
       "3          2017-18                601   Appling County           103   \n",
       "4          2017-18                601   Appling County           103   \n",
       "\n",
       "                   INSTN_NAME   SUBGRP_DESC TEST_CMPNT_TYP_CD  \\\n",
       "0  Appling County High School  All Students         Composite   \n",
       "1  Appling County High School  All Students           English   \n",
       "2  Appling County High School  All Students       Mathematics   \n",
       "3  Appling County High School  All Students           Reading   \n",
       "4  Appling County High School  All Students           Science   \n",
       "\n",
       "   NATIONAL_NUM_TESTED_CNT  STATE_NUM_TESTED_CNT  DSTRCT_NUM_TESTED_CNT  \\\n",
       "0                  1914817                 45081                     29   \n",
       "1                  1914817                 45077                     29   \n",
       "2                  1914817                 45080                     29   \n",
       "3                  1914817                 45076                     29   \n",
       "4                  1914817                 45077                     29   \n",
       "\n",
       "   INSTN_NUM_TESTED_CNT  NATIONAL_AVG_SCORE_VAL  STATE_AVG_SCORE_VAL  \\\n",
       "0                    29                    20.8                 21.0   \n",
       "1                    29                    20.2                 20.4   \n",
       "2                    29                    20.5                 20.4   \n",
       "3                    29                    21.3                 21.7   \n",
       "4                    29                    20.7                 21.0   \n",
       "\n",
       "   DSTRCT_AVG_SCORE_VAL  INSTN_AVG_SCORE_VAL  \n",
       "0                  20.8                 20.8  \n",
       "1                  19.8                 19.8  \n",
       "2                  20.4                 20.4  \n",
       "3                  22.0                 22.0  \n",
       "4                  20.1                 20.1  "
      ],
      "text/html": "<div>\n<style scoped>\n    .dataframe tbody tr th:only-of-type {\n        vertical-align: middle;\n    }\n\n    .dataframe tbody tr th {\n        vertical-align: top;\n    }\n\n    .dataframe thead th {\n        text-align: right;\n    }\n</style>\n<table border=\"1\" class=\"dataframe\">\n  <thead>\n    <tr style=\"text-align: right;\">\n      <th></th>\n      <th>LONG_SCHOOL_YEAR</th>\n      <th>SCHOOL_DISTRCT_CD</th>\n      <th>SCHOOL_DSTRCT_NM</th>\n      <th>INSTN_NUMBER</th>\n      <th>INSTN_NAME</th>\n      <th>SUBGRP_DESC</th>\n      <th>TEST_CMPNT_TYP_CD</th>\n      <th>NATIONAL_NUM_TESTED_CNT</th>\n      <th>STATE_NUM_TESTED_CNT</th>\n      <th>DSTRCT_NUM_TESTED_CNT</th>\n      <th>INSTN_NUM_TESTED_CNT</th>\n      <th>NATIONAL_AVG_SCORE_VAL</th>\n      <th>STATE_AVG_SCORE_VAL</th>\n      <th>DSTRCT_AVG_SCORE_VAL</th>\n      <th>INSTN_AVG_SCORE_VAL</th>\n    </tr>\n  </thead>\n  <tbody>\n    <tr>\n      <th>0</th>\n      <td>2017-18</td>\n      <td>601</td>\n      <td>Appling County</td>\n      <td>103</td>\n      <td>Appling County High School</td>\n      <td>All Students</td>\n      <td>Composite</td>\n      <td>1914817</td>\n      <td>45081</td>\n      <td>29</td>\n      <td>29</td>\n      <td>20.8</td>\n      <td>21.0</td>\n      <td>20.8</td>\n      <td>20.8</td>\n    </tr>\n    <tr>\n      <th>1</th>\n      <td>2017-18</td>\n      <td>601</td>\n      <td>Appling County</td>\n      <td>103</td>\n      <td>Appling County High School</td>\n      <td>All Students</td>\n      <td>English</td>\n      <td>1914817</td>\n      <td>45077</td>\n      <td>29</td>\n      <td>29</td>\n      <td>20.2</td>\n      <td>20.4</td>\n      <td>19.8</td>\n      <td>19.8</td>\n    </tr>\n    <tr>\n      <th>2</th>\n      <td>2017-18</td>\n      <td>601</td>\n      <td>Appling County</td>\n      <td>103</td>\n      <td>Appling County High School</td>\n      <td>All Students</td>\n      <td>Mathematics</td>\n      <td>1914817</td>\n      <td>45080</td>\n      <td>29</td>\n      <td>29</td>\n      <td>20.5</td>\n      <td>20.4</td>\n      <td>20.4</td>\n      <td>20.4</td>\n    </tr>\n    <tr>\n      <th>3</th>\n      <td>2017-18</td>\n      <td>601</td>\n      <td>Appling County</td>\n      <td>103</td>\n      <td>Appling County High School</td>\n      <td>All Students</td>\n      <td>Reading</td>\n      <td>1914817</td>\n      <td>45076</td>\n      <td>29</td>\n      <td>29</td>\n      <td>21.3</td>\n      <td>21.7</td>\n      <td>22.0</td>\n      <td>22.0</td>\n    </tr>\n    <tr>\n      <th>4</th>\n      <td>2017-18</td>\n      <td>601</td>\n      <td>Appling County</td>\n      <td>103</td>\n      <td>Appling County High School</td>\n      <td>All Students</td>\n      <td>Science</td>\n      <td>1914817</td>\n      <td>45077</td>\n      <td>29</td>\n      <td>29</td>\n      <td>20.7</td>\n      <td>21.0</td>\n      <td>20.1</td>\n      <td>20.1</td>\n    </tr>\n  </tbody>\n</table>\n</div>"
     },
     "metadata": {},
     "execution_count": 1
    }
   ],
   "source": [
    "import os\n",
    "import pandas as pd\n",
    "import csv\n",
    "import numpy as np\n",
    "\n",
    "# clean act data scores\n",
    "\n",
    "ACT_18 = \"ACT scores/ACT_HIGHEST_2018_FEB_24_2020.csv\"\n",
    "\n",
    "ACT2018DF = pd.read_csv(ACT_18)\n",
    "ACT2018DF.head()\n"
   ]
  },
  {
   "cell_type": "code",
   "execution_count": 2,
   "metadata": {},
   "outputs": [
    {
     "output_type": "execute_result",
     "data": {
      "text/plain": [
       "    SCHOOL_DISTRCT_CD SCHOOL_DSTRCT_NM TEST_CMPNT_TYP_CD  STATE_AVG_SCORE_VAL  \\\n",
       "0                 601   Appling County         Composite                 21.0   \n",
       "1                 601   Appling County           English                 20.4   \n",
       "2                 601   Appling County       Mathematics                 20.4   \n",
       "3                 601   Appling County           Reading                 21.7   \n",
       "4                 601   Appling County           Science                 21.0   \n",
       "5                 601   Appling County  Writing Subscore                  6.9   \n",
       "6                 602  Atkinson County         Composite                 21.0   \n",
       "7                 602  Atkinson County           English                 20.4   \n",
       "8                 602  Atkinson County       Mathematics                 20.4   \n",
       "9                 602  Atkinson County           Reading                 21.7   \n",
       "10                602  Atkinson County           Science                 21.0   \n",
       "11                602  Atkinson County  Writing Subscore                  6.9   \n",
       "12                603     Bacon County         Composite                 21.0   \n",
       "13                603     Bacon County           English                 20.4   \n",
       "14                603     Bacon County       Mathematics                 20.4   \n",
       "15                603     Bacon County           Reading                 21.7   \n",
       "16                603     Bacon County           Science                 21.0   \n",
       "17                603     Bacon County  Writing Subscore                  6.9   \n",
       "18                604     Baker County         Composite                 21.0   \n",
       "19                604     Baker County           English                 20.4   \n",
       "\n",
       "    DSTRCT_AVG_SCORE_VAL  \n",
       "0                   20.8  \n",
       "1                   19.8  \n",
       "2                   20.4  \n",
       "3                   22.0  \n",
       "4                   20.1  \n",
       "5                    NaN  \n",
       "6                    NaN  \n",
       "7                    NaN  \n",
       "8                    NaN  \n",
       "9                    NaN  \n",
       "10                   NaN  \n",
       "11                   NaN  \n",
       "12                  16.6  \n",
       "13                  15.4  \n",
       "14                  16.5  \n",
       "15                  17.1  \n",
       "16                  16.7  \n",
       "17                   NaN  \n",
       "18                   NaN  \n",
       "19                   NaN  "
      ],
      "text/html": "<div>\n<style scoped>\n    .dataframe tbody tr th:only-of-type {\n        vertical-align: middle;\n    }\n\n    .dataframe tbody tr th {\n        vertical-align: top;\n    }\n\n    .dataframe thead th {\n        text-align: right;\n    }\n</style>\n<table border=\"1\" class=\"dataframe\">\n  <thead>\n    <tr style=\"text-align: right;\">\n      <th></th>\n      <th>SCHOOL_DISTRCT_CD</th>\n      <th>SCHOOL_DSTRCT_NM</th>\n      <th>TEST_CMPNT_TYP_CD</th>\n      <th>STATE_AVG_SCORE_VAL</th>\n      <th>DSTRCT_AVG_SCORE_VAL</th>\n    </tr>\n  </thead>\n  <tbody>\n    <tr>\n      <th>0</th>\n      <td>601</td>\n      <td>Appling County</td>\n      <td>Composite</td>\n      <td>21.0</td>\n      <td>20.8</td>\n    </tr>\n    <tr>\n      <th>1</th>\n      <td>601</td>\n      <td>Appling County</td>\n      <td>English</td>\n      <td>20.4</td>\n      <td>19.8</td>\n    </tr>\n    <tr>\n      <th>2</th>\n      <td>601</td>\n      <td>Appling County</td>\n      <td>Mathematics</td>\n      <td>20.4</td>\n      <td>20.4</td>\n    </tr>\n    <tr>\n      <th>3</th>\n      <td>601</td>\n      <td>Appling County</td>\n      <td>Reading</td>\n      <td>21.7</td>\n      <td>22.0</td>\n    </tr>\n    <tr>\n      <th>4</th>\n      <td>601</td>\n      <td>Appling County</td>\n      <td>Science</td>\n      <td>21.0</td>\n      <td>20.1</td>\n    </tr>\n    <tr>\n      <th>5</th>\n      <td>601</td>\n      <td>Appling County</td>\n      <td>Writing Subscore</td>\n      <td>6.9</td>\n      <td>NaN</td>\n    </tr>\n    <tr>\n      <th>6</th>\n      <td>602</td>\n      <td>Atkinson County</td>\n      <td>Composite</td>\n      <td>21.0</td>\n      <td>NaN</td>\n    </tr>\n    <tr>\n      <th>7</th>\n      <td>602</td>\n      <td>Atkinson County</td>\n      <td>English</td>\n      <td>20.4</td>\n      <td>NaN</td>\n    </tr>\n    <tr>\n      <th>8</th>\n      <td>602</td>\n      <td>Atkinson County</td>\n      <td>Mathematics</td>\n      <td>20.4</td>\n      <td>NaN</td>\n    </tr>\n    <tr>\n      <th>9</th>\n      <td>602</td>\n      <td>Atkinson County</td>\n      <td>Reading</td>\n      <td>21.7</td>\n      <td>NaN</td>\n    </tr>\n    <tr>\n      <th>10</th>\n      <td>602</td>\n      <td>Atkinson County</td>\n      <td>Science</td>\n      <td>21.0</td>\n      <td>NaN</td>\n    </tr>\n    <tr>\n      <th>11</th>\n      <td>602</td>\n      <td>Atkinson County</td>\n      <td>Writing Subscore</td>\n      <td>6.9</td>\n      <td>NaN</td>\n    </tr>\n    <tr>\n      <th>12</th>\n      <td>603</td>\n      <td>Bacon County</td>\n      <td>Composite</td>\n      <td>21.0</td>\n      <td>16.6</td>\n    </tr>\n    <tr>\n      <th>13</th>\n      <td>603</td>\n      <td>Bacon County</td>\n      <td>English</td>\n      <td>20.4</td>\n      <td>15.4</td>\n    </tr>\n    <tr>\n      <th>14</th>\n      <td>603</td>\n      <td>Bacon County</td>\n      <td>Mathematics</td>\n      <td>20.4</td>\n      <td>16.5</td>\n    </tr>\n    <tr>\n      <th>15</th>\n      <td>603</td>\n      <td>Bacon County</td>\n      <td>Reading</td>\n      <td>21.7</td>\n      <td>17.1</td>\n    </tr>\n    <tr>\n      <th>16</th>\n      <td>603</td>\n      <td>Bacon County</td>\n      <td>Science</td>\n      <td>21.0</td>\n      <td>16.7</td>\n    </tr>\n    <tr>\n      <th>17</th>\n      <td>603</td>\n      <td>Bacon County</td>\n      <td>Writing Subscore</td>\n      <td>6.9</td>\n      <td>NaN</td>\n    </tr>\n    <tr>\n      <th>18</th>\n      <td>604</td>\n      <td>Baker County</td>\n      <td>Composite</td>\n      <td>21.0</td>\n      <td>NaN</td>\n    </tr>\n    <tr>\n      <th>19</th>\n      <td>604</td>\n      <td>Baker County</td>\n      <td>English</td>\n      <td>20.4</td>\n      <td>NaN</td>\n    </tr>\n  </tbody>\n</table>\n</div>"
     },
     "metadata": {},
     "execution_count": 2
    }
   ],
   "source": [
    "\n",
    "ACT2018DF = ACT2018DF[[\"SCHOOL_DISTRCT_CD\", \"SCHOOL_DSTRCT_NM\", \"TEST_CMPNT_TYP_CD\", \"STATE_AVG_SCORE_VAL\", \"DSTRCT_AVG_SCORE_VAL\"]]\n",
    "ACT2018DF.head(20)"
   ]
  },
  {
   "source": [
    "ACT2018DF = ACT2018DF.loc[(ACT2018DF[\"TEST_CMPNT_TYP_CD\"] == \"Composite\") |  \n",
    "                                    (ACT2018DF[\"TEST_CMPNT_TYP_CD\"] == \"Science\") |\n",
    "                                    (ACT2018DF[\"TEST_CMPNT_TYP_CD\"] == \"Mathematics\") |\n",
    "                                    (ACT2018DF[\"TEST_CMPNT_TYP_CD\"] == 'Reading') |\n",
    "                                    (ACT2018DF[\"TEST_CMPNT_TYP_CD\"] == 'Writing Subscore'),:] \n",
    "\n",
    "\n",
    "\n",
    "ACT2018DF"
   ],
   "cell_type": "code",
   "metadata": {},
   "execution_count": 3,
   "outputs": [
    {
     "output_type": "execute_result",
     "data": {
      "text/plain": [
       "      SCHOOL_DISTRCT_CD                              SCHOOL_DSTRCT_NM  \\\n",
       "0                   601                                Appling County   \n",
       "2                   601                                Appling County   \n",
       "3                   601                                Appling County   \n",
       "4                   601                                Appling County   \n",
       "5                   601                                Appling County   \n",
       "...                 ...                                           ...   \n",
       "2489            7991894  State Schools- Georgia Academy for the Blind   \n",
       "2490            7991895    State Schools- Georgia School for the Deaf   \n",
       "2492            7991895    State Schools- Georgia School for the Deaf   \n",
       "2493            7991895    State Schools- Georgia School for the Deaf   \n",
       "2494            7991895    State Schools- Georgia School for the Deaf   \n",
       "\n",
       "     TEST_CMPNT_TYP_CD  STATE_AVG_SCORE_VAL  DSTRCT_AVG_SCORE_VAL  \n",
       "0            Composite                 21.0                  20.8  \n",
       "2          Mathematics                 20.4                  20.4  \n",
       "3              Reading                 21.7                  22.0  \n",
       "4              Science                 21.0                  20.1  \n",
       "5     Writing Subscore                  6.9                   NaN  \n",
       "...                ...                  ...                   ...  \n",
       "2489           Science                 21.0                   NaN  \n",
       "2490         Composite                 21.0                   NaN  \n",
       "2492       Mathematics                 20.4                   NaN  \n",
       "2493           Reading                 21.7                   NaN  \n",
       "2494           Science                 21.0                   NaN  \n",
       "\n",
       "[2076 rows x 5 columns]"
      ],
      "text/html": "<div>\n<style scoped>\n    .dataframe tbody tr th:only-of-type {\n        vertical-align: middle;\n    }\n\n    .dataframe tbody tr th {\n        vertical-align: top;\n    }\n\n    .dataframe thead th {\n        text-align: right;\n    }\n</style>\n<table border=\"1\" class=\"dataframe\">\n  <thead>\n    <tr style=\"text-align: right;\">\n      <th></th>\n      <th>SCHOOL_DISTRCT_CD</th>\n      <th>SCHOOL_DSTRCT_NM</th>\n      <th>TEST_CMPNT_TYP_CD</th>\n      <th>STATE_AVG_SCORE_VAL</th>\n      <th>DSTRCT_AVG_SCORE_VAL</th>\n    </tr>\n  </thead>\n  <tbody>\n    <tr>\n      <th>0</th>\n      <td>601</td>\n      <td>Appling County</td>\n      <td>Composite</td>\n      <td>21.0</td>\n      <td>20.8</td>\n    </tr>\n    <tr>\n      <th>2</th>\n      <td>601</td>\n      <td>Appling County</td>\n      <td>Mathematics</td>\n      <td>20.4</td>\n      <td>20.4</td>\n    </tr>\n    <tr>\n      <th>3</th>\n      <td>601</td>\n      <td>Appling County</td>\n      <td>Reading</td>\n      <td>21.7</td>\n      <td>22.0</td>\n    </tr>\n    <tr>\n      <th>4</th>\n      <td>601</td>\n      <td>Appling County</td>\n      <td>Science</td>\n      <td>21.0</td>\n      <td>20.1</td>\n    </tr>\n    <tr>\n      <th>5</th>\n      <td>601</td>\n      <td>Appling County</td>\n      <td>Writing Subscore</td>\n      <td>6.9</td>\n      <td>NaN</td>\n    </tr>\n    <tr>\n      <th>...</th>\n      <td>...</td>\n      <td>...</td>\n      <td>...</td>\n      <td>...</td>\n      <td>...</td>\n    </tr>\n    <tr>\n      <th>2489</th>\n      <td>7991894</td>\n      <td>State Schools- Georgia Academy for the Blind</td>\n      <td>Science</td>\n      <td>21.0</td>\n      <td>NaN</td>\n    </tr>\n    <tr>\n      <th>2490</th>\n      <td>7991895</td>\n      <td>State Schools- Georgia School for the Deaf</td>\n      <td>Composite</td>\n      <td>21.0</td>\n      <td>NaN</td>\n    </tr>\n    <tr>\n      <th>2492</th>\n      <td>7991895</td>\n      <td>State Schools- Georgia School for the Deaf</td>\n      <td>Mathematics</td>\n      <td>20.4</td>\n      <td>NaN</td>\n    </tr>\n    <tr>\n      <th>2493</th>\n      <td>7991895</td>\n      <td>State Schools- Georgia School for the Deaf</td>\n      <td>Reading</td>\n      <td>21.7</td>\n      <td>NaN</td>\n    </tr>\n    <tr>\n      <th>2494</th>\n      <td>7991895</td>\n      <td>State Schools- Georgia School for the Deaf</td>\n      <td>Science</td>\n      <td>21.0</td>\n      <td>NaN</td>\n    </tr>\n  </tbody>\n</table>\n<p>2076 rows × 5 columns</p>\n</div>"
     },
     "metadata": {},
     "execution_count": 3
    }
   ]
  },
  {
   "cell_type": "code",
   "execution_count": 12,
   "metadata": {},
   "outputs": [
    {
     "output_type": "execute_result",
     "data": {
      "text/plain": [
       "2"
      ]
     },
     "metadata": {},
     "execution_count": 12
    }
   ],
   "source": [
    "#find the standard deviation\n",
    "\n",
    "loc_com = ACT2018DF.loc[(ACT2018DF[\"TEST_CMPNT_TYP_CD\"] == \"Composite\"), :]\n",
    "comb_score_std = loc_com.groupby([\"TEST_CMPNT_TYP_CD\"])[\"DSTRCT_AVG_SCORE_VAL\"].std()\n",
    "comb_score_std = int(comb_score_std)\n",
    "comb_score_std\n"
   ]
  },
  {
   "source": [
    "comb_state_avg = 21.0\n",
    "buffer = 2\n",
    "\n",
    "bins = [0, (comb_state_avg-buffer), (comb_state_avg+buffer), 36]\n",
    "group_labels = [\"Below Average\", \"Average\", \"Average\", \"Above Average\"]\n",
    "\n",
    "#What am I doing wrong?\n",
    "\n",
    "\n",
    "conditions = [(ACT2018DF[\"DSTRCT_AVG_SCORE_VAL\"] < (ACT2018DF[\"STATE_AVG_SCORE_VAL\"] - buffer)),\n",
    "              (ACT2018DF[\"DSTRCT_AVG_SCORE_VAL\"] >= (ACT2018DF[\"STATE_AVG_SCORE_VAL\"] - buffer)) & (ACT2018DF[\"DSTRCT_AVG_SCORE_VAL\"]<= (ACT2018DF[\"STATE_AVG_SCORE_VAL\"] + buffer)),\n",
    "              (ACT2018DF[\"DSTRCT_AVG_SCORE_VAL\"] > (ACT2018DF[\"STATE_AVG_SCORE_VAL\"] + buffer))\n",
    "              ]\n",
    "\n",
    "values = [\"Below Average\", \"Average\", \"Above Average\"]\n",
    "\n",
    "ACT2018DF[\"Bracket\"] = np.select(conditions, values)\n",
    "ACT2018DF\n",
    "\n"
   ],
   "cell_type": "code",
   "metadata": {},
   "execution_count": 4,
   "outputs": [
    {
     "output_type": "execute_result",
     "data": {
      "text/plain": [
       "      SCHOOL_DISTRCT_CD                              SCHOOL_DSTRCT_NM  \\\n",
       "0                   601                                Appling County   \n",
       "2                   601                                Appling County   \n",
       "3                   601                                Appling County   \n",
       "4                   601                                Appling County   \n",
       "5                   601                                Appling County   \n",
       "...                 ...                                           ...   \n",
       "2489            7991894  State Schools- Georgia Academy for the Blind   \n",
       "2490            7991895    State Schools- Georgia School for the Deaf   \n",
       "2492            7991895    State Schools- Georgia School for the Deaf   \n",
       "2493            7991895    State Schools- Georgia School for the Deaf   \n",
       "2494            7991895    State Schools- Georgia School for the Deaf   \n",
       "\n",
       "     TEST_CMPNT_TYP_CD  STATE_AVG_SCORE_VAL  DSTRCT_AVG_SCORE_VAL  Bracket  \n",
       "0            Composite                 21.0                  20.8  Average  \n",
       "2          Mathematics                 20.4                  20.4  Average  \n",
       "3              Reading                 21.7                  22.0  Average  \n",
       "4              Science                 21.0                  20.1  Average  \n",
       "5     Writing Subscore                  6.9                   NaN        0  \n",
       "...                ...                  ...                   ...      ...  \n",
       "2489           Science                 21.0                   NaN        0  \n",
       "2490         Composite                 21.0                   NaN        0  \n",
       "2492       Mathematics                 20.4                   NaN        0  \n",
       "2493           Reading                 21.7                   NaN        0  \n",
       "2494           Science                 21.0                   NaN        0  \n",
       "\n",
       "[2076 rows x 6 columns]"
      ],
      "text/html": "<div>\n<style scoped>\n    .dataframe tbody tr th:only-of-type {\n        vertical-align: middle;\n    }\n\n    .dataframe tbody tr th {\n        vertical-align: top;\n    }\n\n    .dataframe thead th {\n        text-align: right;\n    }\n</style>\n<table border=\"1\" class=\"dataframe\">\n  <thead>\n    <tr style=\"text-align: right;\">\n      <th></th>\n      <th>SCHOOL_DISTRCT_CD</th>\n      <th>SCHOOL_DSTRCT_NM</th>\n      <th>TEST_CMPNT_TYP_CD</th>\n      <th>STATE_AVG_SCORE_VAL</th>\n      <th>DSTRCT_AVG_SCORE_VAL</th>\n      <th>Bracket</th>\n    </tr>\n  </thead>\n  <tbody>\n    <tr>\n      <th>0</th>\n      <td>601</td>\n      <td>Appling County</td>\n      <td>Composite</td>\n      <td>21.0</td>\n      <td>20.8</td>\n      <td>Average</td>\n    </tr>\n    <tr>\n      <th>2</th>\n      <td>601</td>\n      <td>Appling County</td>\n      <td>Mathematics</td>\n      <td>20.4</td>\n      <td>20.4</td>\n      <td>Average</td>\n    </tr>\n    <tr>\n      <th>3</th>\n      <td>601</td>\n      <td>Appling County</td>\n      <td>Reading</td>\n      <td>21.7</td>\n      <td>22.0</td>\n      <td>Average</td>\n    </tr>\n    <tr>\n      <th>4</th>\n      <td>601</td>\n      <td>Appling County</td>\n      <td>Science</td>\n      <td>21.0</td>\n      <td>20.1</td>\n      <td>Average</td>\n    </tr>\n    <tr>\n      <th>5</th>\n      <td>601</td>\n      <td>Appling County</td>\n      <td>Writing Subscore</td>\n      <td>6.9</td>\n      <td>NaN</td>\n      <td>0</td>\n    </tr>\n    <tr>\n      <th>...</th>\n      <td>...</td>\n      <td>...</td>\n      <td>...</td>\n      <td>...</td>\n      <td>...</td>\n      <td>...</td>\n    </tr>\n    <tr>\n      <th>2489</th>\n      <td>7991894</td>\n      <td>State Schools- Georgia Academy for the Blind</td>\n      <td>Science</td>\n      <td>21.0</td>\n      <td>NaN</td>\n      <td>0</td>\n    </tr>\n    <tr>\n      <th>2490</th>\n      <td>7991895</td>\n      <td>State Schools- Georgia School for the Deaf</td>\n      <td>Composite</td>\n      <td>21.0</td>\n      <td>NaN</td>\n      <td>0</td>\n    </tr>\n    <tr>\n      <th>2492</th>\n      <td>7991895</td>\n      <td>State Schools- Georgia School for the Deaf</td>\n      <td>Mathematics</td>\n      <td>20.4</td>\n      <td>NaN</td>\n      <td>0</td>\n    </tr>\n    <tr>\n      <th>2493</th>\n      <td>7991895</td>\n      <td>State Schools- Georgia School for the Deaf</td>\n      <td>Reading</td>\n      <td>21.7</td>\n      <td>NaN</td>\n      <td>0</td>\n    </tr>\n    <tr>\n      <th>2494</th>\n      <td>7991895</td>\n      <td>State Schools- Georgia School for the Deaf</td>\n      <td>Science</td>\n      <td>21.0</td>\n      <td>NaN</td>\n      <td>0</td>\n    </tr>\n  </tbody>\n</table>\n<p>2076 rows × 6 columns</p>\n</div>"
     },
     "metadata": {},
     "execution_count": 4
    }
   ]
  },
  {
   "source": [
    "#find the sum of each each ACT catagory by county \n",
    "countyname = ACT2018DF.groupby(['SCHOOL_DSTRCT_NM'])\n",
    "\n",
    "\n",
    "test_com = ACT2018DF.loc[ACT2018DF[\"TEST_CMPNT_TYP_CD\"] == 'Composite']\n",
    "test_sci = ACT2018DF.loc[ACT2018DF[\"TEST_CMPNT_TYP_CD\"] == 'Science']\n",
    "test_math = ACT2018DF.loc[ACT2018DF[\"TEST_CMPNT_TYP_CD\"] == 'Mathematics']\n",
    "test_read = ACT2018DF.loc[ACT2018DF[\"TEST_CMPNT_TYP_CD\"] == 'Reading']\n",
    "test_wri = ACT2018DF.loc[ACT2018DF[\"TEST_CMPNT_TYP_CD\"] == 'Writing Subscore']\n"
   ],
   "cell_type": "code",
   "metadata": {},
   "execution_count": 5,
   "outputs": []
  },
  {
   "source": [
    "#Each group still has duplicate schools \n",
    "#Drop Duplicates\n",
    "test_com2 = test_com.drop_duplicates(subset=('SCHOOL_DSTRCT_NM'))\n",
    "#keep only the ave district value\n",
    "ave_com_dis = test_com2[[\"SCHOOL_DISTRCT_CD\", \"SCHOOL_DSTRCT_NM\", \"STATE_AVG_SCORE_VAL\", \"DSTRCT_AVG_SCORE_VAL\", \"Bracket\"]]\n",
    "\n",
    "#repeat for other sets. \n",
    "\n",
    "test_sci2 = test_sci.drop_duplicates(subset=('SCHOOL_DSTRCT_NM'))\n",
    "ave_sci_dis = test_sci2[[ \"SCHOOL_DSTRCT_NM\", \"STATE_AVG_SCORE_VAL\", \"DSTRCT_AVG_SCORE_VAL\", \"Bracket\"]]\n",
    "test_math2 = test_math.drop_duplicates(subset=('SCHOOL_DSTRCT_NM'))\n",
    "ave_math_dis = test_math2[[ \"SCHOOL_DSTRCT_NM\", \"STATE_AVG_SCORE_VAL\", \"DSTRCT_AVG_SCORE_VAL\", \"Bracket\"]]\n",
    "test_read2 = test_read.drop_duplicates(subset=('SCHOOL_DSTRCT_NM'))\n",
    "ave_read_dis = test_read2[[\"SCHOOL_DSTRCT_NM\", \"STATE_AVG_SCORE_VAL\", \"DSTRCT_AVG_SCORE_VAL\", \"Bracket\"]]\n",
    "test_wri2 = test_wri.drop_duplicates(subset=('SCHOOL_DSTRCT_NM'))\n",
    "ave_wri_dis = test_wri2[[\"SCHOOL_DSTRCT_NM\", \"STATE_AVG_SCORE_VAL\", \"DSTRCT_AVG_SCORE_VAL\", \"Bracket\"]]\n",
    "ave_math_dis\n"
   ],
   "cell_type": "code",
   "metadata": {},
   "execution_count": 6,
   "outputs": [
    {
     "output_type": "execute_result",
     "data": {
      "text/plain": [
       "                                     SCHOOL_DSTRCT_NM  STATE_AVG_SCORE_VAL  \\\n",
       "2                                      Appling County                 20.4   \n",
       "8                                     Atkinson County                 20.4   \n",
       "14                                       Bacon County                 20.4   \n",
       "20                                       Baker County                 20.4   \n",
       "25                                     Baldwin County                 20.4   \n",
       "...                                               ...                  ...   \n",
       "2470                                    Valdosta City                 20.4   \n",
       "2476                                     Vidalia City                 20.4   \n",
       "2482  State Schools- Atlanta Area School for the Deaf                 20.4   \n",
       "2487     State Schools- Georgia Academy for the Blind                 20.4   \n",
       "2492       State Schools- Georgia School for the Deaf                 20.4   \n",
       "\n",
       "      DSTRCT_AVG_SCORE_VAL        Bracket  \n",
       "2                     20.4        Average  \n",
       "8                      NaN              0  \n",
       "14                    16.5  Below Average  \n",
       "20                     NaN              0  \n",
       "25                    17.3  Below Average  \n",
       "...                    ...            ...  \n",
       "2470                  18.2  Below Average  \n",
       "2476                  19.7        Average  \n",
       "2482                  14.4  Below Average  \n",
       "2487                   NaN              0  \n",
       "2492                   NaN              0  \n",
       "\n",
       "[187 rows x 4 columns]"
      ],
      "text/html": "<div>\n<style scoped>\n    .dataframe tbody tr th:only-of-type {\n        vertical-align: middle;\n    }\n\n    .dataframe tbody tr th {\n        vertical-align: top;\n    }\n\n    .dataframe thead th {\n        text-align: right;\n    }\n</style>\n<table border=\"1\" class=\"dataframe\">\n  <thead>\n    <tr style=\"text-align: right;\">\n      <th></th>\n      <th>SCHOOL_DSTRCT_NM</th>\n      <th>STATE_AVG_SCORE_VAL</th>\n      <th>DSTRCT_AVG_SCORE_VAL</th>\n      <th>Bracket</th>\n    </tr>\n  </thead>\n  <tbody>\n    <tr>\n      <th>2</th>\n      <td>Appling County</td>\n      <td>20.4</td>\n      <td>20.4</td>\n      <td>Average</td>\n    </tr>\n    <tr>\n      <th>8</th>\n      <td>Atkinson County</td>\n      <td>20.4</td>\n      <td>NaN</td>\n      <td>0</td>\n    </tr>\n    <tr>\n      <th>14</th>\n      <td>Bacon County</td>\n      <td>20.4</td>\n      <td>16.5</td>\n      <td>Below Average</td>\n    </tr>\n    <tr>\n      <th>20</th>\n      <td>Baker County</td>\n      <td>20.4</td>\n      <td>NaN</td>\n      <td>0</td>\n    </tr>\n    <tr>\n      <th>25</th>\n      <td>Baldwin County</td>\n      <td>20.4</td>\n      <td>17.3</td>\n      <td>Below Average</td>\n    </tr>\n    <tr>\n      <th>...</th>\n      <td>...</td>\n      <td>...</td>\n      <td>...</td>\n      <td>...</td>\n    </tr>\n    <tr>\n      <th>2470</th>\n      <td>Valdosta City</td>\n      <td>20.4</td>\n      <td>18.2</td>\n      <td>Below Average</td>\n    </tr>\n    <tr>\n      <th>2476</th>\n      <td>Vidalia City</td>\n      <td>20.4</td>\n      <td>19.7</td>\n      <td>Average</td>\n    </tr>\n    <tr>\n      <th>2482</th>\n      <td>State Schools- Atlanta Area School for the Deaf</td>\n      <td>20.4</td>\n      <td>14.4</td>\n      <td>Below Average</td>\n    </tr>\n    <tr>\n      <th>2487</th>\n      <td>State Schools- Georgia Academy for the Blind</td>\n      <td>20.4</td>\n      <td>NaN</td>\n      <td>0</td>\n    </tr>\n    <tr>\n      <th>2492</th>\n      <td>State Schools- Georgia School for the Deaf</td>\n      <td>20.4</td>\n      <td>NaN</td>\n      <td>0</td>\n    </tr>\n  </tbody>\n</table>\n<p>187 rows × 4 columns</p>\n</div>"
     },
     "metadata": {},
     "execution_count": 6
    }
   ]
  },
  {
   "source": [
    "#series of mergies to create the mane data frame\n",
    "ave_com_dis1 = pd.merge(ave_com_dis, ave_math_dis, on=\"SCHOOL_DSTRCT_NM\", how=\"outer\", suffixes=(\"_com\", \"_math\"))\n",
    "ave_com_dis2 = pd.merge(ave_com_dis1, ave_sci_dis, on=\"SCHOOL_DSTRCT_NM\", how=\"outer\", suffixes=(\"\", \"_sci\"))\n",
    "ave_com_dis3 = pd.merge(ave_com_dis2, ave_read_dis, on=\"SCHOOL_DSTRCT_NM\", how=\"outer\", suffixes=(\"\", \"_read\"))\n",
    "ave_com_dis4 = pd.merge(ave_com_dis3, ave_wri_dis, on=\"SCHOOL_DSTRCT_NM\", how=\"outer\", suffixes=(\"\", \"_wri\"))\n",
    "\n",
    "ave_com_dis4"
   ],
   "cell_type": "code",
   "metadata": {},
   "execution_count": 7,
   "outputs": [
    {
     "output_type": "execute_result",
     "data": {
      "text/plain": [
       "     SCHOOL_DISTRCT_CD                                 SCHOOL_DSTRCT_NM  \\\n",
       "0                  601                                   Appling County   \n",
       "1                  602                                  Atkinson County   \n",
       "2                  603                                     Bacon County   \n",
       "3                  604                                     Baker County   \n",
       "4                  605                                   Baldwin County   \n",
       "..                 ...                                              ...   \n",
       "182                792                                    Valdosta City   \n",
       "183                793                                     Vidalia City   \n",
       "184            7991893  State Schools- Atlanta Area School for the Deaf   \n",
       "185            7991894     State Schools- Georgia Academy for the Blind   \n",
       "186            7991895       State Schools- Georgia School for the Deaf   \n",
       "\n",
       "     STATE_AVG_SCORE_VAL_com  DSTRCT_AVG_SCORE_VAL_com    Bracket_com  \\\n",
       "0                       21.0                      20.8        Average   \n",
       "1                       21.0                       NaN              0   \n",
       "2                       21.0                      16.6  Below Average   \n",
       "3                       21.0                       NaN              0   \n",
       "4                       21.0                      17.9  Below Average   \n",
       "..                       ...                       ...            ...   \n",
       "182                     21.0                      19.1        Average   \n",
       "183                     21.0                      20.1        Average   \n",
       "184                     21.0                      13.0  Below Average   \n",
       "185                     21.0                       NaN              0   \n",
       "186                     21.0                       NaN              0   \n",
       "\n",
       "     STATE_AVG_SCORE_VAL_math  DSTRCT_AVG_SCORE_VAL_math   Bracket_math  \\\n",
       "0                        20.4                       20.4        Average   \n",
       "1                        20.4                        NaN              0   \n",
       "2                        20.4                       16.5  Below Average   \n",
       "3                        20.4                        NaN              0   \n",
       "4                        20.4                       17.3  Below Average   \n",
       "..                        ...                        ...            ...   \n",
       "182                      20.4                       18.2  Below Average   \n",
       "183                      20.4                       19.7        Average   \n",
       "184                      20.4                       14.4  Below Average   \n",
       "185                      20.4                        NaN              0   \n",
       "186                      20.4                        NaN              0   \n",
       "\n",
       "     STATE_AVG_SCORE_VAL  DSTRCT_AVG_SCORE_VAL        Bracket  \\\n",
       "0                   21.0                  20.1        Average   \n",
       "1                   21.0                   NaN              0   \n",
       "2                   21.0                  16.7  Below Average   \n",
       "3                   21.0                   NaN              0   \n",
       "4                   21.0                  18.2  Below Average   \n",
       "..                   ...                   ...            ...   \n",
       "182                 21.0                  19.5        Average   \n",
       "183                 21.0                  19.6        Average   \n",
       "184                 21.0                  14.6  Below Average   \n",
       "185                 21.0                   NaN              0   \n",
       "186                 21.0                   NaN              0   \n",
       "\n",
       "     STATE_AVG_SCORE_VAL_read  DSTRCT_AVG_SCORE_VAL_read   Bracket_read  \\\n",
       "0                        21.7                       22.0        Average   \n",
       "1                        21.7                        NaN              0   \n",
       "2                        21.7                       17.1  Below Average   \n",
       "3                        21.7                        NaN              0   \n",
       "4                        21.7                       18.5  Below Average   \n",
       "..                        ...                        ...            ...   \n",
       "182                      21.7                       19.7        Average   \n",
       "183                      21.7                       20.9        Average   \n",
       "184                      21.7                       12.2  Below Average   \n",
       "185                      21.7                        NaN              0   \n",
       "186                      21.7                        NaN              0   \n",
       "\n",
       "     STATE_AVG_SCORE_VAL_wri  DSTRCT_AVG_SCORE_VAL_wri Bracket_wri  \n",
       "0                        6.9                       NaN           0  \n",
       "1                        6.9                       NaN           0  \n",
       "2                        6.9                       NaN           0  \n",
       "3                        NaN                       NaN         NaN  \n",
       "4                        6.9                       6.5     Average  \n",
       "..                       ...                       ...         ...  \n",
       "182                      6.9                       6.5     Average  \n",
       "183                      6.9                       5.7     Average  \n",
       "184                      NaN                       NaN         NaN  \n",
       "185                      NaN                       NaN         NaN  \n",
       "186                      NaN                       NaN         NaN  \n",
       "\n",
       "[187 rows x 17 columns]"
      ],
      "text/html": "<div>\n<style scoped>\n    .dataframe tbody tr th:only-of-type {\n        vertical-align: middle;\n    }\n\n    .dataframe tbody tr th {\n        vertical-align: top;\n    }\n\n    .dataframe thead th {\n        text-align: right;\n    }\n</style>\n<table border=\"1\" class=\"dataframe\">\n  <thead>\n    <tr style=\"text-align: right;\">\n      <th></th>\n      <th>SCHOOL_DISTRCT_CD</th>\n      <th>SCHOOL_DSTRCT_NM</th>\n      <th>STATE_AVG_SCORE_VAL_com</th>\n      <th>DSTRCT_AVG_SCORE_VAL_com</th>\n      <th>Bracket_com</th>\n      <th>STATE_AVG_SCORE_VAL_math</th>\n      <th>DSTRCT_AVG_SCORE_VAL_math</th>\n      <th>Bracket_math</th>\n      <th>STATE_AVG_SCORE_VAL</th>\n      <th>DSTRCT_AVG_SCORE_VAL</th>\n      <th>Bracket</th>\n      <th>STATE_AVG_SCORE_VAL_read</th>\n      <th>DSTRCT_AVG_SCORE_VAL_read</th>\n      <th>Bracket_read</th>\n      <th>STATE_AVG_SCORE_VAL_wri</th>\n      <th>DSTRCT_AVG_SCORE_VAL_wri</th>\n      <th>Bracket_wri</th>\n    </tr>\n  </thead>\n  <tbody>\n    <tr>\n      <th>0</th>\n      <td>601</td>\n      <td>Appling County</td>\n      <td>21.0</td>\n      <td>20.8</td>\n      <td>Average</td>\n      <td>20.4</td>\n      <td>20.4</td>\n      <td>Average</td>\n      <td>21.0</td>\n      <td>20.1</td>\n      <td>Average</td>\n      <td>21.7</td>\n      <td>22.0</td>\n      <td>Average</td>\n      <td>6.9</td>\n      <td>NaN</td>\n      <td>0</td>\n    </tr>\n    <tr>\n      <th>1</th>\n      <td>602</td>\n      <td>Atkinson County</td>\n      <td>21.0</td>\n      <td>NaN</td>\n      <td>0</td>\n      <td>20.4</td>\n      <td>NaN</td>\n      <td>0</td>\n      <td>21.0</td>\n      <td>NaN</td>\n      <td>0</td>\n      <td>21.7</td>\n      <td>NaN</td>\n      <td>0</td>\n      <td>6.9</td>\n      <td>NaN</td>\n      <td>0</td>\n    </tr>\n    <tr>\n      <th>2</th>\n      <td>603</td>\n      <td>Bacon County</td>\n      <td>21.0</td>\n      <td>16.6</td>\n      <td>Below Average</td>\n      <td>20.4</td>\n      <td>16.5</td>\n      <td>Below Average</td>\n      <td>21.0</td>\n      <td>16.7</td>\n      <td>Below Average</td>\n      <td>21.7</td>\n      <td>17.1</td>\n      <td>Below Average</td>\n      <td>6.9</td>\n      <td>NaN</td>\n      <td>0</td>\n    </tr>\n    <tr>\n      <th>3</th>\n      <td>604</td>\n      <td>Baker County</td>\n      <td>21.0</td>\n      <td>NaN</td>\n      <td>0</td>\n      <td>20.4</td>\n      <td>NaN</td>\n      <td>0</td>\n      <td>21.0</td>\n      <td>NaN</td>\n      <td>0</td>\n      <td>21.7</td>\n      <td>NaN</td>\n      <td>0</td>\n      <td>NaN</td>\n      <td>NaN</td>\n      <td>NaN</td>\n    </tr>\n    <tr>\n      <th>4</th>\n      <td>605</td>\n      <td>Baldwin County</td>\n      <td>21.0</td>\n      <td>17.9</td>\n      <td>Below Average</td>\n      <td>20.4</td>\n      <td>17.3</td>\n      <td>Below Average</td>\n      <td>21.0</td>\n      <td>18.2</td>\n      <td>Below Average</td>\n      <td>21.7</td>\n      <td>18.5</td>\n      <td>Below Average</td>\n      <td>6.9</td>\n      <td>6.5</td>\n      <td>Average</td>\n    </tr>\n    <tr>\n      <th>...</th>\n      <td>...</td>\n      <td>...</td>\n      <td>...</td>\n      <td>...</td>\n      <td>...</td>\n      <td>...</td>\n      <td>...</td>\n      <td>...</td>\n      <td>...</td>\n      <td>...</td>\n      <td>...</td>\n      <td>...</td>\n      <td>...</td>\n      <td>...</td>\n      <td>...</td>\n      <td>...</td>\n      <td>...</td>\n    </tr>\n    <tr>\n      <th>182</th>\n      <td>792</td>\n      <td>Valdosta City</td>\n      <td>21.0</td>\n      <td>19.1</td>\n      <td>Average</td>\n      <td>20.4</td>\n      <td>18.2</td>\n      <td>Below Average</td>\n      <td>21.0</td>\n      <td>19.5</td>\n      <td>Average</td>\n      <td>21.7</td>\n      <td>19.7</td>\n      <td>Average</td>\n      <td>6.9</td>\n      <td>6.5</td>\n      <td>Average</td>\n    </tr>\n    <tr>\n      <th>183</th>\n      <td>793</td>\n      <td>Vidalia City</td>\n      <td>21.0</td>\n      <td>20.1</td>\n      <td>Average</td>\n      <td>20.4</td>\n      <td>19.7</td>\n      <td>Average</td>\n      <td>21.0</td>\n      <td>19.6</td>\n      <td>Average</td>\n      <td>21.7</td>\n      <td>20.9</td>\n      <td>Average</td>\n      <td>6.9</td>\n      <td>5.7</td>\n      <td>Average</td>\n    </tr>\n    <tr>\n      <th>184</th>\n      <td>7991893</td>\n      <td>State Schools- Atlanta Area School for the Deaf</td>\n      <td>21.0</td>\n      <td>13.0</td>\n      <td>Below Average</td>\n      <td>20.4</td>\n      <td>14.4</td>\n      <td>Below Average</td>\n      <td>21.0</td>\n      <td>14.6</td>\n      <td>Below Average</td>\n      <td>21.7</td>\n      <td>12.2</td>\n      <td>Below Average</td>\n      <td>NaN</td>\n      <td>NaN</td>\n      <td>NaN</td>\n    </tr>\n    <tr>\n      <th>185</th>\n      <td>7991894</td>\n      <td>State Schools- Georgia Academy for the Blind</td>\n      <td>21.0</td>\n      <td>NaN</td>\n      <td>0</td>\n      <td>20.4</td>\n      <td>NaN</td>\n      <td>0</td>\n      <td>21.0</td>\n      <td>NaN</td>\n      <td>0</td>\n      <td>21.7</td>\n      <td>NaN</td>\n      <td>0</td>\n      <td>NaN</td>\n      <td>NaN</td>\n      <td>NaN</td>\n    </tr>\n    <tr>\n      <th>186</th>\n      <td>7991895</td>\n      <td>State Schools- Georgia School for the Deaf</td>\n      <td>21.0</td>\n      <td>NaN</td>\n      <td>0</td>\n      <td>20.4</td>\n      <td>NaN</td>\n      <td>0</td>\n      <td>21.0</td>\n      <td>NaN</td>\n      <td>0</td>\n      <td>21.7</td>\n      <td>NaN</td>\n      <td>0</td>\n      <td>NaN</td>\n      <td>NaN</td>\n      <td>NaN</td>\n    </tr>\n  </tbody>\n</table>\n<p>187 rows × 17 columns</p>\n</div>"
     },
     "metadata": {},
     "execution_count": 7
    }
   ]
  },
  {
   "source": [
    "#renaming columns\n",
    "ave_act_scores = ave_com_dis4.rename(columns={'SCHOOL_DISTRCT_CD': 'District CD',\n",
    "                                              'SCHOOL_DSTRCT_NM': 'District Name', \n",
    "                                              'STATE_AVG_SCORE_VAL_com': 'Average State Composite',\n",
    "                                              'DSTRCT_AVG_SCORE_VAL_com': 'Average District Composite',\n",
    "                                              'Bracket_com': \"State Bracket Composite\",\n",
    "                                              'STATE_AVG_SCORE_VAL_math': 'Average State Mathmatics',\n",
    "                                              'DSTRCT_AVG_SCORE_VAL_math': 'Average District Mathamatics', \n",
    "                                              'Bracket_math': \"State Bracket Mathamatics\",\n",
    "                                              'STATE_AVG_SCORE_VAL': 'Average State Science',\n",
    "                                              'DSTRCT_AVG_SCORE_VAL': 'Average District Science',\n",
    "                                              'Bracket': 'State Bracket Science',\n",
    "                                              'STATE_AVG_SCORE_VAL_read': 'Average State Reading',\n",
    "                                              'DSTRCT_AVG_SCORE_VAL_read': \"Average District Reading\",\n",
    "                                              'Bracket_read': 'State Bracket Reading',\n",
    "                                              'STATE_AVG_SCORE_VAL_wri': 'Average State Writing Subscore',\n",
    "                                              'DSTRCT_AVG_SCORE_VAL_wri': 'Average District Writing Subscore',\n",
    "                                              'Bracket_wri': 'State Bracket Writing Subscore'})\n",
    "\n",
    "ave_act_scores['District Name'].unique()"
   ],
   "cell_type": "code",
   "metadata": {},
   "execution_count": 13,
   "outputs": [
    {
     "output_type": "execute_result",
     "data": {
      "text/plain": [
       "array(['Appling County', 'Atkinson County', 'Bacon County',\n",
       "       'Baker County', 'Baldwin County', 'Banks County', 'Barrow County',\n",
       "       'Bartow County', 'Ben Hill County', 'Berrien County',\n",
       "       'Bibb County', 'Bleckley County', 'Brantley County',\n",
       "       'Brooks County', 'Bryan County', 'Bulloch County', 'Burke County',\n",
       "       'Butts County', 'Calhoun County', 'Camden County',\n",
       "       'Candler County', 'Carroll County', 'Catoosa County',\n",
       "       'Charlton County', 'Savannah-Chatham County',\n",
       "       'Chattahoochee County', 'Chattooga County', 'Cherokee County',\n",
       "       'Clarke County', 'Clayton County', 'Clinch County', 'Cobb County',\n",
       "       'Coffee County', 'Colquitt County', 'Columbia County',\n",
       "       'Cook County', 'Coweta County', 'Crawford County', 'Crisp County',\n",
       "       'Dade County', 'Dawson County', 'Decatur County', 'DeKalb County',\n",
       "       'Dodge County', 'Dooly County', 'Dougherty County',\n",
       "       'Douglas County', 'Early County', 'Echols County',\n",
       "       'Effingham County', 'Elbert County', 'Emanuel County',\n",
       "       'Evans County', 'Fannin County', 'Fayette County', 'Floyd County',\n",
       "       'Forsyth County', 'Franklin County', 'Fulton County',\n",
       "       'Gilmer County', 'Glascock County', 'Glynn County',\n",
       "       'Gordon County', 'Grady County', 'Greene County',\n",
       "       'Gwinnett County', 'Habersham County', 'Hall County',\n",
       "       'Hancock County', 'Haralson County', 'Harris County',\n",
       "       'Hart County', 'Heard County', 'Henry County', 'Houston County',\n",
       "       'Irwin County', 'Jackson County', 'Jasper County',\n",
       "       'Jeff Davis County', 'Jefferson County', 'Jenkins County',\n",
       "       'Johnson County', 'Jones County', 'Lamar County', 'Lanier County',\n",
       "       'Laurens County', 'Lee County', 'Liberty County', 'Lincoln County',\n",
       "       'Long County', 'Lowndes County', 'Lumpkin County', 'Macon County',\n",
       "       'Madison County', 'Marion County', 'McDuffie County',\n",
       "       'McIntosh County', 'Meriwether County', 'Miller County',\n",
       "       'Mitchell County', 'Monroe County', 'Montgomery County',\n",
       "       'Morgan County', 'Murray County', 'Muscogee County',\n",
       "       'Newton County', 'Oconee County', 'Oglethorpe County',\n",
       "       'Paulding County', 'Peach County', 'Pickens County',\n",
       "       'Pierce County', 'Pike County', 'Polk County', 'Pulaski County',\n",
       "       'Putnam County', 'Quitman County', 'Rabun County',\n",
       "       'Randolph County', 'Richmond County', 'Rockdale County',\n",
       "       'Schley County', 'Screven County', 'Seminole County',\n",
       "       'Griffin-Spalding County', 'Stephens County', 'Stewart County',\n",
       "       'Sumter County', 'Talbot County', 'Taliaferro County',\n",
       "       'Tattnall County', 'Taylor County', 'Telfair County',\n",
       "       'Terrell County', 'Thomas County', 'Tift County', 'Toombs County',\n",
       "       'Towns County', 'Treutlen County', 'Troup County', 'Turner County',\n",
       "       'Twiggs County', 'Union County', 'Thomaston-Upson County',\n",
       "       'Walker County', 'Walton County', 'Ware County', 'Warren County',\n",
       "       'Washington County', 'Wayne County', 'Webster County',\n",
       "       'Wheeler County', 'White County', 'Whitfield County',\n",
       "       'Wilcox County', 'Wilkes County', 'Wilkinson County',\n",
       "       'Worth County', 'Atlanta Public Schools', 'Bremen City',\n",
       "       'Buford City', 'Calhoun City', 'Carrollton City',\n",
       "       'Cartersville City', 'Chickamauga City', 'Commerce City',\n",
       "       'Dalton Public Schools', 'Decatur City', 'Dublin City',\n",
       "       'Gainesville City', 'Jefferson City', 'Marietta City',\n",
       "       'State Charter Schools- Mountain Education Center School',\n",
       "       'State Charter Schools- Provost Academy Georgia',\n",
       "       'State Charter Schools- Georgia Connections Academy',\n",
       "       'Commission Charter Schools- CCAT School',\n",
       "       'Commission Charter Schools- Fulton Leadership Academy',\n",
       "       'Pelham City', 'Rome City', 'Social Circle City',\n",
       "       'Thomasville City', 'Trion City', 'Valdosta City', 'Vidalia City',\n",
       "       'State Schools- Atlanta Area School for the Deaf',\n",
       "       'State Schools- Georgia Academy for the Blind',\n",
       "       'State Schools- Georgia School for the Deaf'], dtype=object)"
      ]
     },
     "metadata": {},
     "execution_count": 13
    }
   ]
  },
  {
   "source": [
    "#export to csv\n",
    "#ave_act_scores.to_csv('ACT scores/AVE_ACT_Scores_dis')\n",
    "\n",
    "#Filter District Name row to remove the city schools at the end. \n",
    "\n"
   ],
   "cell_type": "code",
   "metadata": {},
   "execution_count": 10,
   "outputs": [
    {
     "output_type": "execute_result",
     "data": {
      "text/plain": [
       "District Name\n",
       "Appling County           NaN\n",
       "Atkinson County          NaN\n",
       "Atlanta Public Schools   NaN\n",
       "Bacon County             NaN\n",
       "Baker County             NaN\n",
       "                          ..\n",
       "Whitfield County         NaN\n",
       "Wilcox County            NaN\n",
       "Wilkes County            NaN\n",
       "Wilkinson County         NaN\n",
       "Worth County             NaN\n",
       "Name: Average District Composite, Length: 187, dtype: float64"
      ]
     },
     "metadata": {},
     "execution_count": 10
    }
   ]
  },
  {
   "cell_type": "code",
   "execution_count": 15,
   "metadata": {},
   "outputs": [
    {
     "output_type": "stream",
     "name": "stdout",
     "text": [
      "['Bremen City', 'Buford City', 'Calhoun City', 'Carrollton City', 'Cartersville City', 'Chickamauga City', 'Commerce City', 'Decatur City', 'Dublin City', 'Gainesville City', 'Jefferson City', 'Marietta City', 'Pelham City', 'Rome City', 'Social Circle City', 'Thomasville City', 'Trion City', 'Valdosta City', 'Vidalia City']\n"
     ]
    }
   ],
   "source": [
    "school = [row for row in ave_act_scores['District Name'] if 'School' in row]\n",
    "city = [row for row in ave_act_scores['District Name'] if 'City' in row]\n",
    "print(city)"
   ]
  },
  {
   "cell_type": "code",
   "execution_count": null,
   "metadata": {},
   "outputs": [],
   "source": []
  }
 ]
}