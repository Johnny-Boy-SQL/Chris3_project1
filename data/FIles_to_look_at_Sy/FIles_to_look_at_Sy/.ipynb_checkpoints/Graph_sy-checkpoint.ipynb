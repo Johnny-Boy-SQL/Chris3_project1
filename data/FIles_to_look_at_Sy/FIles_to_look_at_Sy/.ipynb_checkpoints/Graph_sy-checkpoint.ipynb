{
 "cells": [
  {
   "cell_type": "code",
   "execution_count": 1,
   "metadata": {},
   "outputs": [],
   "source": [
    "#dependencies\n",
    "import os\n",
    "import pandas as pd\n",
    "import numpy as np\n",
    "import matplotlib.pyplot as plt\n",
    "from scipy.stats import linregress"
   ]
  },
  {
   "cell_type": "code",
   "execution_count": 2,
   "metadata": {},
   "outputs": [
    {
     "data": {
      "text/plain": [
       "District ID                         200\n",
       "County Name_x                       179\n",
       "District Average Composite Score    166\n",
       "State Composite Bracket             179\n",
       "State Average Composite             179\n",
       "County Name_y                       200\n",
       "Grades 9-12 Students                180\n",
       "dtype: int64"
      ]
     },
     "execution_count": 2,
     "metadata": {},
     "output_type": "execute_result"
    }
   ],
   "source": [
    "#path files and then merge\n",
    "\n",
    "act_df = pd.read_csv(\"act_clean_df_sy.csv\")\n",
    "lunch_df = pd.read_csv(\"clean_lunch_df.csv\")\n",
    "\n",
    "merge_df = pd.merge(act_df, lunch_df, on=\"District ID\", how=\"outer\")\n",
    "\n",
    "merge_df.count()"
   ]
  },
  {
   "cell_type": "code",
   "execution_count": 3,
   "metadata": {},
   "outputs": [
    {
     "data": {
      "text/plain": [
       "District ID                         166\n",
       "County Name_x                       166\n",
       "District Average Composite Score    166\n",
       "State Composite Bracket             166\n",
       "State Average Composite             166\n",
       "County Name_y                       166\n",
       "Grades 9-12 Students                166\n",
       "dtype: int64"
      ]
     },
     "execution_count": 3,
     "metadata": {},
     "output_type": "execute_result"
    }
   ],
   "source": [
    "#clean some more\n",
    "clean_df = merge_df.dropna(how=\"any\")\n",
    "\n",
    "clean_df.count()"
   ]
  },
  {
   "cell_type": "code",
   "execution_count": 4,
   "metadata": {},
   "outputs": [
    {
     "data": {
      "text/html": [
       "<div>\n",
       "<style scoped>\n",
       "    .dataframe tbody tr th:only-of-type {\n",
       "        vertical-align: middle;\n",
       "    }\n",
       "\n",
       "    .dataframe tbody tr th {\n",
       "        vertical-align: top;\n",
       "    }\n",
       "\n",
       "    .dataframe thead th {\n",
       "        text-align: right;\n",
       "    }\n",
       "</style>\n",
       "<table border=\"1\" class=\"dataframe\">\n",
       "  <thead>\n",
       "    <tr style=\"text-align: right;\">\n",
       "      <th></th>\n",
       "      <th>District ID</th>\n",
       "      <th>County Name_x</th>\n",
       "      <th>District Average Composite Score</th>\n",
       "      <th>State Composite Bracket</th>\n",
       "      <th>State Average Composite</th>\n",
       "      <th>County Name_y</th>\n",
       "      <th>Grades 9-12 Students</th>\n",
       "    </tr>\n",
       "  </thead>\n",
       "  <tbody>\n",
       "    <tr>\n",
       "      <th>0</th>\n",
       "      <td>601</td>\n",
       "      <td>Appling County</td>\n",
       "      <td>20.8</td>\n",
       "      <td>Average</td>\n",
       "      <td>21.0</td>\n",
       "      <td>APPLING COUNTY</td>\n",
       "      <td>1005.0</td>\n",
       "    </tr>\n",
       "    <tr>\n",
       "      <th>2</th>\n",
       "      <td>603</td>\n",
       "      <td>Bacon County</td>\n",
       "      <td>16.6</td>\n",
       "      <td>Below Average</td>\n",
       "      <td>21.0</td>\n",
       "      <td>BACON COUNTY</td>\n",
       "      <td>577.0</td>\n",
       "    </tr>\n",
       "    <tr>\n",
       "      <th>4</th>\n",
       "      <td>605</td>\n",
       "      <td>Baldwin County</td>\n",
       "      <td>17.9</td>\n",
       "      <td>Below Average</td>\n",
       "      <td>21.0</td>\n",
       "      <td>BALDWIN COUNTY</td>\n",
       "      <td>1180.0</td>\n",
       "    </tr>\n",
       "    <tr>\n",
       "      <th>5</th>\n",
       "      <td>606</td>\n",
       "      <td>Banks County</td>\n",
       "      <td>20.1</td>\n",
       "      <td>Average</td>\n",
       "      <td>21.0</td>\n",
       "      <td>BANKS COUNTY</td>\n",
       "      <td>885.0</td>\n",
       "    </tr>\n",
       "    <tr>\n",
       "      <th>6</th>\n",
       "      <td>607</td>\n",
       "      <td>Barrow County</td>\n",
       "      <td>19.5</td>\n",
       "      <td>Average</td>\n",
       "      <td>21.0</td>\n",
       "      <td>BARROW COUNTY</td>\n",
       "      <td>3823.0</td>\n",
       "    </tr>\n",
       "    <tr>\n",
       "      <th>...</th>\n",
       "      <td>...</td>\n",
       "      <td>...</td>\n",
       "      <td>...</td>\n",
       "      <td>...</td>\n",
       "      <td>...</td>\n",
       "      <td>...</td>\n",
       "      <td>...</td>\n",
       "    </tr>\n",
       "    <tr>\n",
       "      <th>174</th>\n",
       "      <td>786</td>\n",
       "      <td>Social Circle City</td>\n",
       "      <td>20.8</td>\n",
       "      <td>Average</td>\n",
       "      <td>21.0</td>\n",
       "      <td>SOCIAL CIRCLE CITY</td>\n",
       "      <td>534.0</td>\n",
       "    </tr>\n",
       "    <tr>\n",
       "      <th>175</th>\n",
       "      <td>789</td>\n",
       "      <td>Thomasville City</td>\n",
       "      <td>19.1</td>\n",
       "      <td>Average</td>\n",
       "      <td>21.0</td>\n",
       "      <td>THOMASVILLE CITY</td>\n",
       "      <td>762.0</td>\n",
       "    </tr>\n",
       "    <tr>\n",
       "      <th>176</th>\n",
       "      <td>791</td>\n",
       "      <td>Trion City</td>\n",
       "      <td>21.1</td>\n",
       "      <td>Average</td>\n",
       "      <td>21.0</td>\n",
       "      <td>TRION CITY</td>\n",
       "      <td>413.0</td>\n",
       "    </tr>\n",
       "    <tr>\n",
       "      <th>177</th>\n",
       "      <td>792</td>\n",
       "      <td>Valdosta City</td>\n",
       "      <td>19.1</td>\n",
       "      <td>Average</td>\n",
       "      <td>21.0</td>\n",
       "      <td>VALDOSTA CITY</td>\n",
       "      <td>2117.0</td>\n",
       "    </tr>\n",
       "    <tr>\n",
       "      <th>178</th>\n",
       "      <td>793</td>\n",
       "      <td>Vidalia City</td>\n",
       "      <td>20.1</td>\n",
       "      <td>Average</td>\n",
       "      <td>21.0</td>\n",
       "      <td>VIDALIA CITY</td>\n",
       "      <td>703.0</td>\n",
       "    </tr>\n",
       "  </tbody>\n",
       "</table>\n",
       "<p>166 rows × 7 columns</p>\n",
       "</div>"
      ],
      "text/plain": [
       "     District ID       County Name_x  District Average Composite Score  \\\n",
       "0            601      Appling County                              20.8   \n",
       "2            603        Bacon County                              16.6   \n",
       "4            605      Baldwin County                              17.9   \n",
       "5            606        Banks County                              20.1   \n",
       "6            607       Barrow County                              19.5   \n",
       "..           ...                 ...                               ...   \n",
       "174          786  Social Circle City                              20.8   \n",
       "175          789    Thomasville City                              19.1   \n",
       "176          791          Trion City                              21.1   \n",
       "177          792       Valdosta City                              19.1   \n",
       "178          793        Vidalia City                              20.1   \n",
       "\n",
       "    State Composite Bracket  State Average Composite       County Name_y  \\\n",
       "0                   Average                     21.0      APPLING COUNTY   \n",
       "2             Below Average                     21.0        BACON COUNTY   \n",
       "4             Below Average                     21.0      BALDWIN COUNTY   \n",
       "5                   Average                     21.0        BANKS COUNTY   \n",
       "6                   Average                     21.0       BARROW COUNTY   \n",
       "..                      ...                      ...                 ...   \n",
       "174                 Average                     21.0  SOCIAL CIRCLE CITY   \n",
       "175                 Average                     21.0    THOMASVILLE CITY   \n",
       "176                 Average                     21.0          TRION CITY   \n",
       "177                 Average                     21.0       VALDOSTA CITY   \n",
       "178                 Average                     21.0        VIDALIA CITY   \n",
       "\n",
       "     Grades 9-12 Students  \n",
       "0                  1005.0  \n",
       "2                   577.0  \n",
       "4                  1180.0  \n",
       "5                   885.0  \n",
       "6                  3823.0  \n",
       "..                    ...  \n",
       "174                 534.0  \n",
       "175                 762.0  \n",
       "176                 413.0  \n",
       "177                2117.0  \n",
       "178                 703.0  \n",
       "\n",
       "[166 rows x 7 columns]"
      ]
     },
     "execution_count": 4,
     "metadata": {},
     "output_type": "execute_result"
    }
   ],
   "source": [
    "#checking\n",
    "clean_df"
   ]
  },
  {
   "cell_type": "code",
   "execution_count": 5,
   "metadata": {
    "scrolled": true
   },
   "outputs": [
    {
     "data": {
      "image/png": "[encoded data removed]",
      "text/plain": [
       "<Figure size 432x288 with 1 Axes>"
      ]
     },
     "metadata": {
      "needs_background": "light"
     },
     "output_type": "display_data"
    }
   ],
   "source": [
    "#graph scatter plot to see correlation between students who qualify for free \n",
    "#and reduce lunch vs District ACT score. Using 21 as the state average\n",
    "\n",
    "plt.xlabel(\"District Average Composite Score\")\n",
    "plt.ylabel(\"Grades 9-12 Students\")\n",
    "plt.title(\"Correlation of Grade 9-12 Students qualifying for F&R Lunch vs ACT Composite Score\")\n",
    "plt.scatter(clean_df[\"District Average Composite Score\"], clean_df[\"Grades 9-12 Students\"], 7)\n",
    "\n",
    "axes = plt.gca()\n",
    "axes.set_xlim([12,27])\n",
    "axes.set_ylim([0,10000])\n",
    "              \n",
    "#save graph\n",
    "plt.savefig(\"scatter\")"
   ]
  },
  {
   "cell_type": "code",
   "execution_count": null,
   "metadata": {},
   "outputs": [],
   "source": []
  },
  {
   "cell_type": "code",
   "execution_count": 9,
   "metadata": {},
   "outputs": [
    {
     "data": {
      "image/png": "[encoded data removed]",
      "text/plain": [
       "<Figure size 432x288 with 1 Axes>"
      ]
     },
     "metadata": {
      "needs_background": "light"
     },
     "output_type": "display_data"
    },
    {
     "data": {
      "text/plain": [
       "<Figure size 432x288 with 0 Axes>"
      ]
     },
     "metadata": {},
     "output_type": "display_data"
    }
   ],
   "source": [
    "#add lenier regression\n",
    "# Add the linear regression equation and line to plot\n",
    "plt.xlabel(\"District Average Composite Score\")\n",
    "plt.ylabel(\"Grades 9-12 Students\")\n",
    "plt.title(\"Correlation of Grade 9-12 Students qualifying for F&R Lunch vs ACT Composite Score\")\n",
    "x_values = clean_df[\"District Average Composite Score\"]\n",
    "y_values = clean_df[\"Grades 9-12 Students\"]\n",
    "(slope, intercept, rvalue, pvalue, stderr) = linregress(x_values, y_values)\n",
    "regress_values = x_values * slope + intercept\n",
    "line_eq = \"y = \" + str(round(slope,2)) + \"x + \" + str(round(intercept,2))\n",
    "plt.scatter(x_values,y_values)\n",
    "plt.plot(x_values,regress_values,\"r-\")\n",
    "plt.annotate(line_eq,(6,10),fontsize=15,color=\"red\")\n",
    "plt.show()\n",
    "\n",
    "#save fig\n",
    "\n",
    "plt.savefig(\"regress\")"
   ]
  },
  {
   "cell_type": "code",
   "execution_count": null,
   "metadata": {},
   "outputs": [],
   "source": []
  },
  {
   "cell_type": "code",
   "execution_count": null,
   "metadata": {},
   "outputs": [],
   "source": []
  },
  {
   "cell_type": "code",
   "execution_count": null,
   "metadata": {},
   "outputs": [],
   "source": []
  },
  {
   "cell_type": "code",
   "execution_count": null,
   "metadata": {},
   "outputs": [],
   "source": []
  },
  {
   "cell_type": "code",
   "execution_count": null,
   "metadata": {},
   "outputs": [],
   "source": []
  },
  {
   "cell_type": "code",
   "execution_count": null,
   "metadata": {},
   "outputs": [],
   "source": []
  },
  {
   "cell_type": "code",
   "execution_count": null,
   "metadata": {},
   "outputs": [],
   "source": []
  }
 ],
 "metadata": {
  "kernelspec": {
   "display_name": "Python 3",
   "language": "python",
   "name": "python3"
  },
  "language_info": {
   "codemirror_mode": {
    "name": "ipython",
    "version": 3
   },
   "file_extension": ".py",
   "mimetype": "text/x-python",
   "name": "python",
   "nbconvert_exporter": "python",
   "pygments_lexer": "ipython3",
   "version": "3.8.5"
  }
 },
 "nbformat": 4,
 "nbformat_minor": 4
}
